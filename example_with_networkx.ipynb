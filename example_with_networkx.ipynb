{
 "cells": [
  {
   "cell_type": "code",
   "execution_count": 1,
   "metadata": {},
   "outputs": [],
   "source": [
    "import numpy as np\n",
    "from sklearn.metrics import adjusted_rand_score as ARI\n",
    "\n",
    "## pip install partition-networkx\n",
    "## also 'pip install python-louvain' to get 'community' \n",
    "import networkx as nx\n",
    "import partition_networkx\n",
    "import community\n"
   ]
  },
  {
   "cell_type": "markdown",
   "metadata": {},
   "source": [
    "## Simple block model graph\n",
    "\n",
    "We generate a simple 1000-node graph with 10 communities of size 100 where\n",
    "* p_in = 0.1, edge probability for pairs of nodes in the same community\n",
    "* p_out = 0.025, edge probability for pairs of nodes in different communities\n"
   ]
  },
  {
   "cell_type": "code",
   "execution_count": 2,
   "metadata": {},
   "outputs": [],
   "source": [
    "# Graph generation with 10 communities of size 100\n",
    "commSize = 100\n",
    "numComm = 10\n",
    "g = nx.generators.planted_partition_graph(l=numComm, k=commSize, p_in=0.1, p_out=0.025)\n",
    "\n",
    "## store groud truth communities as 'iterables of sets of vertices'\n",
    "true_comm = [set(list(range(commSize*i, commSize*(i+1)))) for i in range(numComm)]\n"
   ]
  },
  {
   "cell_type": "markdown",
   "metadata": {},
   "source": [
    "## Generate partitions with Louvain and ECG"
   ]
  },
  {
   "cell_type": "code",
   "execution_count": 3,
   "metadata": {},
   "outputs": [],
   "source": [
    "## run Louvain and ECG:\n",
    "Louvain = community.best_partition(g)\n",
    "Ecg = community.ecg(g, ens_size=16, resolution=1.0)"
   ]
  },
  {
   "cell_type": "code",
   "execution_count": 4,
   "metadata": {},
   "outputs": [
    {
     "name": "stdout",
     "output_type": "stream",
     "text": [
      "Modularity with Louvain: 0.16761826944320063\n",
      "Modularity with ECG: 0.2022198878300814\n"
     ]
    }
   ],
   "source": [
    "## modularity (w.r.t. original weights for ECG)\n",
    "print('Modularity with Louvain:',community.modularity(Louvain, g))\n",
    "print('Modularity with ECG:',community.modularity(Ecg.partition, g))"
   ]
  },
  {
   "cell_type": "code",
   "execution_count": 5,
   "metadata": {},
   "outputs": [
    {
     "name": "stdout",
     "output_type": "stream",
     "text": [
      "Adjusted Graph-Aware Rand Index for Louvain: 0.1633348341602583\n",
      "Adjusted Graph-Aware Rand Index for ECG: 0.7066922428045695\n",
      "\n",
      "Jaccard Graph-Aware for Louvain: 0.26434583014537105\n",
      "Jaccard Graph-Aware for ECG: 0.6664522354454808\n"
     ]
    }
   ],
   "source": [
    "## compute some graph-aware measure given ground truth communities\n",
    "\n",
    "# for 'gam' partition are either iterables of sets of vertices or 'dict'\n",
    "print(\"Adjusted Graph-Aware Rand Index for Louvain:\",g.gam(true_comm, Louvain))\n",
    "print(\"Adjusted Graph-Aware Rand Index for ECG:\",g.gam(true_comm, Ecg.partition))\n",
    "\n",
    "print(\"\\nJaccard Graph-Aware for Louvain:\",g.gam(true_comm, Louvain, method=\"jaccard\",adjusted=False))\n",
    "print(\"Jaccard Graph-Aware for ECG:\",g.gam(true_comm, Ecg.partition, method=\"jaccard\",adjusted=False))\n"
   ]
  },
  {
   "cell_type": "code",
   "execution_count": 6,
   "metadata": {},
   "outputs": [
    {
     "name": "stdout",
     "output_type": "stream",
     "text": [
      "Adjusted non-Graph-Aware Rand Index for Louvain: 0.1262778991500082\n",
      "Adjusted non-Graph-Aware Rand Index for ecg: 0.600695798951731\n"
     ]
    }
   ],
   "source": [
    "## compute the adjusted RAND index \n",
    "# it requires iterables over the vertices:\n",
    "tc = {val:idx for idx,part in enumerate(true_comm) for val in part}\n",
    "# compute ARI\n",
    "print(\"Adjusted non-Graph-Aware Rand Index for Louvain:\",ARI(list(tc.values()), list(Louvain.values())))\n",
    "print(\"Adjusted non-Graph-Aware Rand Index for ecg:\",ARI(list(tc.values()), list(Ecg.partition.values())))\n"
   ]
  }
 ],
 "metadata": {
  "kernelspec": {
   "display_name": "graphmining",
   "language": "python",
   "name": "graphmining"
  },
  "language_info": {
   "codemirror_mode": {
    "name": "ipython",
    "version": 3
   },
   "file_extension": ".py",
   "mimetype": "text/x-python",
   "name": "python",
   "nbconvert_exporter": "python",
   "pygments_lexer": "ipython3",
   "version": "3.10.9"
  }
 },
 "nbformat": 4,
 "nbformat_minor": 2
}
