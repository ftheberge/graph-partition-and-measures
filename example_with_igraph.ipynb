{
 "cells": [
  {
   "cell_type": "code",
   "execution_count": 1,
   "metadata": {},
   "outputs": [],
   "source": [
    "import numpy as np\n",
    "from sklearn.metrics import adjusted_rand_score as ARI\n",
    "\n",
    "## pip install partition-igraph\n",
    "import igraph as ig\n",
    "import partition_igraph\n"
   ]
  },
  {
   "cell_type": "markdown",
   "metadata": {},
   "source": [
    "## Simple block model graph\n",
    "\n",
    "We generate a simple 1000-node graph with 10 communities of expected size 100 where\n",
    "* p_in = 0.1, edge probability for pairs of nodes in the same community\n",
    "* p_out = 0.025, edge probability for pairs of nodes in different communities\n"
   ]
  },
  {
   "cell_type": "code",
   "execution_count": 2,
   "metadata": {},
   "outputs": [],
   "source": [
    "# Graph generation with 10 communities of expected size 100\n",
    "P = np.full((10,10),.025)\n",
    "np.fill_diagonal(P,.1)\n",
    "g = ig.Graph.Preference(n=1000, type_dist=list(np.repeat(.1,10)),\n",
    "                        pref_matrix=P.tolist(),attribute='class')\n",
    "## the 'ground-truth' communities\n",
    "tc = {k:v for k,v in enumerate(g.vs['class'])}"
   ]
  },
  {
   "cell_type": "markdown",
   "metadata": {},
   "source": [
    "## Example using partition_igraph\n"
   ]
  },
  {
   "cell_type": "code",
   "execution_count": 3,
   "metadata": {},
   "outputs": [],
   "source": [
    "## run Louvain and ECG (with Leiden):\n",
    "Louvain = g.community_multilevel()\n",
    "Ecg = g.community_ecg(ens_size=16, final='leiden', resolution=1.0)\n"
   ]
  },
  {
   "cell_type": "code",
   "execution_count": 4,
   "metadata": {},
   "outputs": [
    {
     "name": "stdout",
     "output_type": "stream",
     "text": [
      "Modularity with Louvain: 0.19438468869260003\n",
      "Modularity with ECG: 0.21222510890778576\n"
     ]
    }
   ],
   "source": [
    "## modularity (w.r.t. original weights for ECG)\n",
    "print('Modularity with Louvain:',Louvain.modularity)\n",
    "print('Modularity with ECG:',Ecg.modularity)\n"
   ]
  },
  {
   "cell_type": "code",
   "execution_count": 5,
   "metadata": {},
   "outputs": [
    {
     "name": "stdout",
     "output_type": "stream",
     "text": [
      "Adjusted Graph-Aware Rand Index for Louvain: 0.5838260201782259\n",
      "Adjusted Graph-Aware Rand Index for ECG: 0.8300281824636697\n",
      "\n",
      "Jaccard Graph-Aware for Louvain: 0.5628111273792094\n",
      "Jaccard Graph-Aware for ECG: 0.7907469539113544\n"
     ]
    }
   ],
   "source": [
    "## compute some graph-aware measure given ground truth communities\n",
    "\n",
    "# for 'gam' partition are either 'igraph.clustering.VertexClustering' or 'dict'\n",
    "print('Adjusted Graph-Aware Rand Index for Louvain:',g.gam(Louvain, tc))\n",
    "print('Adjusted Graph-Aware Rand Index for ECG:',g.gam(Ecg, tc))\n",
    "\n",
    "print('\\nJaccard Graph-Aware for Louvain:',g.gam(Louvain, tc, method=\"jaccard\", adjusted=False))\n",
    "print('Jaccard Graph-Aware for ECG:',g.gam(Ecg, tc, method=\"jaccard\", adjusted=False))\n"
   ]
  },
  {
   "cell_type": "code",
   "execution_count": 6,
   "metadata": {},
   "outputs": [
    {
     "name": "stdout",
     "output_type": "stream",
     "text": [
      "Adjusted non-Graph-Aware Rand Index for Louvain: 0.45885976004310497\n",
      "Adjusted non-Graph-Aware Rand Index for ecg: 0.7782542844437367\n"
     ]
    }
   ],
   "source": [
    "## compute the adjusted RAND index \n",
    "print(\"Adjusted non-Graph-Aware Rand Index for Louvain:\",ARI(g.vs['class'], Louvain.membership))\n",
    "print(\"Adjusted non-Graph-Aware Rand Index for ecg:\",ARI(g.vs['class'], Ecg.membership))\n"
   ]
  }
 ],
 "metadata": {
  "kernelspec": {
   "display_name": "graphmining",
   "language": "python",
   "name": "graphmining"
  },
  "language_info": {
   "codemirror_mode": {
    "name": "ipython",
    "version": 3
   },
   "file_extension": ".py",
   "mimetype": "text/x-python",
   "name": "python",
   "nbconvert_exporter": "python",
   "pygments_lexer": "ipython3",
   "version": "3.10.9"
  }
 },
 "nbformat": 4,
 "nbformat_minor": 2
}
