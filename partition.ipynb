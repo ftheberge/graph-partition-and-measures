{
 "cells": [
  {
   "cell_type": "markdown",
   "metadata": {},
   "source": [
    "## Example using partition_networkx"
   ]
  },
  {
   "cell_type": "code",
   "execution_count": 1,
   "metadata": {},
   "outputs": [],
   "source": [
    "## pip install partition-networkx\n",
    "## don't forget to 'pip install python-louvain' to get 'community' \n",
    "import networkx as nx\n",
    "import community\n",
    "import partition_networkx\n",
    "import numpy as np\n"
   ]
  },
  {
   "cell_type": "code",
   "execution_count": 2,
   "metadata": {},
   "outputs": [],
   "source": [
    "# Graph generation with 10 communities of size 100\n",
    "commSize = 100\n",
    "numComm = 10\n",
    "G = nx.generators.planted_partition_graph(l=numComm, k=commSize, p_in=0.1, p_out=0.02)\n",
    "## store groud truth communities as 'iterables of sets of vertices'\n",
    "true_comm = [set(list(range(commSize*i, commSize*(i+1)))) for i in range(numComm)]"
   ]
  },
  {
   "cell_type": "code",
   "execution_count": 3,
   "metadata": {},
   "outputs": [],
   "source": [
    "## run Louvain and ECG:\n",
    "ml = community.best_partition(G)\n",
    "ec = community.ecg(G, ens_size=32)"
   ]
  },
  {
   "cell_type": "code",
   "execution_count": 4,
   "metadata": {},
   "outputs": [
    {
     "name": "stdout",
     "output_type": "stream",
     "text": [
      "0.2516973756805374 0.25573144160212885\n"
     ]
    }
   ],
   "source": [
    "## modularity (w.r.t. original weights for ECG)\n",
    "print(community.modularity(ml,G),community.modularity(ec.partition,G))"
   ]
  },
  {
   "cell_type": "code",
   "execution_count": 5,
   "metadata": {},
   "outputs": [
    {
     "name": "stdout",
     "output_type": "stream",
     "text": [
      "Adjusted Graph-Aware Rand Index for Louvain: 0.891787050306401\n",
      "Adjusted Graph-Aware Rand Index for ecg: 0.9520132306658369\n",
      "\n",
      "Jaccard Graph-Aware for Louvain: 0.8706099815157117\n",
      "Jaccard Graph-Aware for ecg: 0.9399375975039002\n"
     ]
    }
   ],
   "source": [
    "# for 'gam' partition are either iterables of sets of vertices or 'dict'\n",
    "print(\"Adjusted Graph-Aware Rand Index for Louvain:\",G.gam(true_comm, ml))\n",
    "print(\"Adjusted Graph-Aware Rand Index for ecg:\",G.gam(true_comm, ec.partition))\n",
    "\n",
    "print(\"\\nJaccard Graph-Aware for Louvain:\",G.gam(true_comm, ml, method=\"jaccard\",adjusted=False))\n",
    "print(\"Jaccard Graph-Aware for ecg:\",G.gam(true_comm, ec.partition, method=\"jaccard\",adjusted=False))\n"
   ]
  },
  {
   "cell_type": "code",
   "execution_count": 6,
   "metadata": {},
   "outputs": [
    {
     "name": "stdout",
     "output_type": "stream",
     "text": [
      "Adjusted non-Graph-Aware Rand Index for Louvain: 0.8231565290269269\n",
      "Adjusted non-Graph-Aware Rand Index for ecg: 0.934968423512649\n"
     ]
    }
   ],
   "source": [
    "## adjusted RAND index requires iterables over the vertices:\n",
    "from sklearn.metrics import adjusted_rand_score as ARI\n",
    "tc = {val:idx for idx,part in enumerate(true_comm) for val in part}\n",
    "\n",
    "## compute ARI\n",
    "print(\"Adjusted non-Graph-Aware Rand Index for Louvain:\",ARI(list(tc.values()), list(ml.values())))\n",
    "print(\"Adjusted non-Graph-Aware Rand Index for ecg:\",ARI(list(tc.values()), list(ec.partition.values())))\n"
   ]
  },
  {
   "cell_type": "markdown",
   "metadata": {},
   "source": [
    "## Example using partition_igraph\n"
   ]
  },
  {
   "cell_type": "code",
   "execution_count": 7,
   "metadata": {},
   "outputs": [],
   "source": [
    "## pip install partition-igraph\n",
    "import igraph as ig\n",
    "import partition_igraph\n"
   ]
  },
  {
   "cell_type": "code",
   "execution_count": 8,
   "metadata": {},
   "outputs": [],
   "source": [
    "## previous graph 'G' in igraph format:\n",
    "g = ig.Graph(directed=False)\n",
    "g.add_vertices(G.nodes())\n",
    "g.add_edges(G.edges())"
   ]
  },
  {
   "cell_type": "code",
   "execution_count": 9,
   "metadata": {},
   "outputs": [],
   "source": [
    "## run Louvain and ECG (with Leiden):\n",
    "ml = g.community_multilevel()\n",
    "ec = g.community_ecg(ens_size=32, final='leiden')\n"
   ]
  },
  {
   "cell_type": "code",
   "execution_count": 10,
   "metadata": {},
   "outputs": [
    {
     "name": "stdout",
     "output_type": "stream",
     "text": [
      "Adjusted Graph-Aware Rand Index for Louvain: 0.878504948734484\n",
      "Adjusted Graph-Aware Rand Index for ECG: 0.9529480378606583\n",
      "\n",
      "Jaccard Graph-Aware for Louvain: 0.8554838709677419\n",
      "Jaccard Graph-Aware for ECG: 0.9410731707317073\n"
     ]
    }
   ],
   "source": [
    "## for 'gam' partition are either 'igraph.clustering.VertexClustering' or 'dict'\n",
    "print('Adjusted Graph-Aware Rand Index for Louvain:',g.gam(ml,tc))\n",
    "print('Adjusted Graph-Aware Rand Index for ECG:',g.gam(ec,tc))\n",
    "print('\\nJaccard Graph-Aware for Louvain:',g.gam(ml,tc,method=\"jaccard\",adjusted=False))\n",
    "print('Jaccard Graph-Aware for ECG:',g.gam(ec,tc,method=\"jaccard\",adjusted=False))\n"
   ]
  },
  {
   "cell_type": "code",
   "execution_count": 11,
   "metadata": {},
   "outputs": [
    {
     "name": "stdout",
     "output_type": "stream",
     "text": [
      "0.2489639047281379 0.2557214305281764\n"
     ]
    }
   ],
   "source": [
    "## modularity (w.r.t. original weights for ECG)\n",
    "print(ml.modularity, ec.modularity)"
   ]
  }
 ],
 "metadata": {
  "kernelspec": {
   "display_name": "graphmining",
   "language": "python",
   "name": "graphmining"
  },
  "language_info": {
   "codemirror_mode": {
    "name": "ipython",
    "version": 3
   },
   "file_extension": ".py",
   "mimetype": "text/x-python",
   "name": "python",
   "nbconvert_exporter": "python",
   "pygments_lexer": "ipython3",
   "version": "3.7.9"
  }
 },
 "nbformat": 4,
 "nbformat_minor": 2
}
