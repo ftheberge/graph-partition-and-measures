{
 "cells": [
  {
   "cell_type": "code",
   "execution_count": null,
   "id": "af2b1a5e",
   "metadata": {},
   "outputs": [],
   "source": [
    "import numpy as np\n",
    "from sklearn.metrics import adjusted_rand_score as ARI\n",
    "\n",
    "## pip install partition-sknetwork\n",
    "import sknetwork as sn\n",
    "import partition_sknetwork as ps"
   ]
  },
  {
   "cell_type": "markdown",
   "id": "ebf4b115",
   "metadata": {},
   "source": [
    "## Simple block model graph\n",
    "\n",
    "We generate a simple 1000-node graph with 10 communities of expected size 100 where\n",
    "* p_in = 0.1, edge probability for pairs of nodes in the same community\n",
    "* p_out = 0.025, edge probability for pairs of nodes in different communities"
   ]
  },
  {
   "cell_type": "code",
   "execution_count": 2,
   "id": "b62f4050",
   "metadata": {},
   "outputs": [],
   "source": [
    "block_sizes = [100 for _ in range(10)]\n",
    "g = sn.data.models.block_model(block_sizes, 0.1, 0.025, seed=42)\n",
    "\n",
    "# Store the ground truth communities\n",
    "labels = np.array([i for i,block_size in enumerate(block_sizes) for _ in range(block_size)])"
   ]
  },
  {
   "cell_type": "markdown",
   "id": "bb60aa14",
   "metadata": {},
   "source": [
    "## Example using partition_igraph"
   ]
  },
  {
   "cell_type": "code",
   "execution_count": 3,
   "id": "22958e1b",
   "metadata": {},
   "outputs": [],
   "source": [
    "## run Louvain and ECG:\n",
    "louvain = sn.clustering.Louvain(shuffle_nodes=True, random_state=42).fit_predict(g)\n",
    "ecg = ps.ECG(seed=42).fit_predict(g)"
   ]
  },
  {
   "cell_type": "code",
   "execution_count": 4,
   "id": "a3e2f36d",
   "metadata": {},
   "outputs": [
    {
     "name": "stdout",
     "output_type": "stream",
     "text": [
      "Modularity with Louvain: 0.15900220102498056\n",
      "Modularity with ECG: 0.20986631433860758\n"
     ]
    }
   ],
   "source": [
    "print('Modularity with Louvain:',sn.clustering.get_modularity(g, louvain))\n",
    "print('Modularity with ECG:',sn.clustering.get_modularity(g, ecg))"
   ]
  },
  {
   "cell_type": "code",
   "execution_count": 5,
   "id": "88510eac",
   "metadata": {},
   "outputs": [
    {
     "name": "stdout",
     "output_type": "stream",
     "text": [
      "Adjusted Graph-Aware Rand Index for Louvain: 0.18624818643002058\n",
      "Adjusted Graph-Aware Rand Index for ECG: 0.8650632242041396\n",
      "\n",
      "Jaccard Graph-Aware for Louvain: 0.2759559300064809\n",
      "Jaccard Graph-Aware for ECG: 0.8294503094284674\n"
     ]
    }
   ],
   "source": [
    "## compute some graph-aware measure given ground truth communities\n",
    "\n",
    "# for 'gam' partition are either 'igraph.clustering.VertexClustering' or 'dict'\n",
    "print('Adjusted Graph-Aware Rand Index for Louvain:',ps.gam(g, labels, louvain))\n",
    "print('Adjusted Graph-Aware Rand Index for ECG:',ps.gam(g, labels, ecg))\n",
    "\n",
    "print('\\nJaccard Graph-Aware for Louvain:',ps.gam(g, labels, louvain, method=\"jaccard\", adjusted=False))\n",
    "print('Jaccard Graph-Aware for ECG:',ps.gam(g, labels, ecg, method=\"jaccard\", adjusted=False))"
   ]
  },
  {
   "cell_type": "code",
   "execution_count": 6,
   "id": "b3ad1200",
   "metadata": {},
   "outputs": [
    {
     "name": "stdout",
     "output_type": "stream",
     "text": [
      "Adjusted non-Graph-Aware Rand Index for Louvain: 0.1394572171773798\n",
      "Adjusted non-Graph-Aware Rand Index for ecg: 0.8250594456138801\n"
     ]
    }
   ],
   "source": [
    "## compute the adjusted RAND index \n",
    "print(\"Adjusted non-Graph-Aware Rand Index for Louvain:\",ARI(labels, louvain))\n",
    "print(\"Adjusted non-Graph-Aware Rand Index for ecg:\",ARI(labels, ecg))"
   ]
  }
 ],
 "metadata": {
  "kernelspec": {
   "display_name": "ecg",
   "language": "python",
   "name": "python3"
  },
  "language_info": {
   "codemirror_mode": {
    "name": "ipython",
    "version": 3
   },
   "file_extension": ".py",
   "mimetype": "text/x-python",
   "name": "python",
   "nbconvert_exporter": "python",
   "pygments_lexer": "ipython3",
   "version": "3.12.0"
  }
 },
 "nbformat": 4,
 "nbformat_minor": 5
}
